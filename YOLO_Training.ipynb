{
  "nbformat": 4,
  "nbformat_minor": 0,
  "metadata": {
    "colab": {
      "provenance": []
    },
    "kernelspec": {
      "name": "python3",
      "display_name": "Python 3"
    },
    "language_info": {
      "name": "python"
    }
  },
  "cells": [
    {
      "cell_type": "markdown",
      "source": [
        "#Download ultralytics python package"
      ],
      "metadata": {
        "id": "wbRKDXIzcgd5"
      }
    },
    {
      "cell_type": "code",
      "source": [
        "pip install ultralytics"
      ],
      "metadata": {
        "id": "VbhUx1FfciYf"
      },
      "execution_count": null,
      "outputs": []
    },
    {
      "cell_type": "markdown",
      "source": [
        "Once the package is installed, you can load a pre-trained YOLO model (i have a trained model in custom dataset)"
      ],
      "metadata": {
        "id": "Ddj3OJ_9dIan"
      }
    },
    {
      "cell_type": "markdown",
      "source": [
        "#Get data"
      ],
      "metadata": {
        "id": "DTpgmRI7dwTu"
      }
    },
    {
      "cell_type": "code",
      "source": [
        "!pip install roboflow\n",
        "\n",
        "from roboflow import Roboflow\n",
        "rf = Roboflow(api_key=\"m7gGwBVOuTCh0Sgi8PeL\")\n",
        "project = rf.workspace(\"roboflow-universe-projects\").project(\"license-plate-recognition-rxg4e\")\n",
        "version = project.version(4)\n",
        "dataset = version.download(\"yolov8\")\n"
      ],
      "metadata": {
        "id": "TmPiuKC2cVn_"
      },
      "execution_count": null,
      "outputs": []
    },
    {
      "cell_type": "markdown",
      "source": [
        "The previous code for withdrawing data from roboflow, but it is dedicated to yolov8 and consists of images and annotation"
      ],
      "metadata": {
        "id": "aDsyxZM1drWn"
      }
    },
    {
      "cell_type": "markdown",
      "source": [
        "#Model training"
      ],
      "metadata": {
        "id": "7E9B8cN-d3Gn"
      }
    },
    {
      "cell_type": "code",
      "source": [
        "!yolo train data='/content/License-Plate-Recognition-4/data.yaml' model='/content/yolov8l.pt' epochs=50 imgsz=640"
      ],
      "metadata": {
        "id": "8A_bU_pCcYuw"
      },
      "execution_count": null,
      "outputs": []
    },
    {
      "cell_type": "markdown",
      "source": [
        "#Model testing on the video"
      ],
      "metadata": {
        "id": "EOFsXk1Td74o"
      }
    },
    {
      "cell_type": "code",
      "source": [
        "!yolo predict model='/content/best.pt' source='/content/demo.mp4' conf=0.3"
      ],
      "metadata": {
        "id": "SHqE__EwcbOQ"
      },
      "execution_count": null,
      "outputs": []
    }
  ]
}